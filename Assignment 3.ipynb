{
 "cells": [
  {
   "cell_type": "code",
   "execution_count": 8,
   "metadata": {},
   "outputs": [
    {
     "name": "stdout",
     "output_type": "stream",
     "text": [
      "Twinkle,twinkle,littel star,\n",
      "         How I wonder what you are!\n",
      "                 UP above the world so high,\n",
      "                 Like a diamond in the sky.\n",
      "Twinkle,twinkle,littel star,\n",
      "         How I wonder what you are!\n"
     ]
    }
   ],
   "source": [
    "# Question 1\n",
    "# Write a Python program to print the following string in a specific format (see the  output\n",
    "line1 = \"Twinkle,twinkle,littel star,\"\n",
    "line2 = \"How I wonder what you are!\"\n",
    "line3 = \"UP above the world so high,\"\n",
    "line4 = \"Like a diamond in the sky.\"\n",
    "space = \" \"\n",
    "print(line1)\n",
    "print(9*space + line2)\n",
    "print(17*space + line3)\n",
    "print(17*space + line4)\n",
    "print(line1)\n",
    "print(9*space + line2)"
   ]
  },
  {
   "cell_type": "code",
   "execution_count": 12,
   "metadata": {},
   "outputs": [
    {
     "name": "stdout",
     "output_type": "stream",
     "text": [
      "Python version\n",
      "3.6.13 \n"
     ]
    }
   ],
   "source": [
    "# Question 2\n",
    "# Write a Python program to get the Python version you are using\n",
    "import sys\n",
    "print(\"Python version\")\n",
    "print(sys.version[:7])"
   ]
  },
  {
   "cell_type": "code",
   "execution_count": 15,
   "metadata": {},
   "outputs": [
    {
     "name": "stdout",
     "output_type": "stream",
     "text": [
      "Today's Date : 25/10/2021\n",
      "Time Now : 13:02:09\n"
     ]
    }
   ],
   "source": [
    "# Question 3 \n",
    "# Write a Python program to display the current date and time.\n",
    "from datetime import datetime\n",
    "\n",
    "datetime = datetime.now()\n",
    "print(\"Today's Date :\",datetime.strftime(\"%d/%m/%Y\"))\n",
    "\n",
    "print(\"Time Now :\",datetime.strftime(\"%H:%M:%S\"))"
   ]
  },
  {
   "cell_type": "code",
   "execution_count": 1,
   "metadata": {},
   "outputs": [
    {
     "name": "stdout",
     "output_type": "stream",
     "text": [
      "Enter a radius of a circle : 3\n",
      "Area of circle = 28.27\n"
     ]
    }
   ],
   "source": [
    "# Question 4\n",
    "# Write a Python program which accepts the radius of a circle from the user and compute  the area.\n",
    "from math import pi,pow\n",
    "\n",
    "radius = float(input(\"Enter a radius of a circle : \"))\n",
    "\n",
    "area = pi * pow(radius,2)\n",
    "print(\"Area of circle =\",round(area,2))"
   ]
  },
  {
   "cell_type": "code",
   "execution_count": 2,
   "metadata": {},
   "outputs": [
    {
     "name": "stdout",
     "output_type": "stream",
     "text": [
      "Enter your first name: Muhammad\n",
      "Enter your last name: Uzair\n",
      "Uzair Muhammad\n"
     ]
    }
   ],
   "source": [
    "# Question 5\n",
    "# Write a Python program which accepts the user's first and last name and print them in  reverse order with a space between them.\n",
    "firstname = input(\"Enter your first name: \")\n",
    "lastname = input(\"Enter your last name: \")\n",
    "print(lastname + \" \" + firstname)"
   ]
  },
  {
   "cell_type": "code",
   "execution_count": 3,
   "metadata": {},
   "outputs": [
    {
     "name": "stdout",
     "output_type": "stream",
     "text": [
      "Enter first number: 4\n",
      "Enter second number: 6.7\n",
      "Addition = 10.7\n"
     ]
    }
   ],
   "source": [
    "# Question 6\n",
    "# Write a python program which takes two inputs from user and print them addition\n",
    "number1 = float(input(\"Enter first number: \"))\n",
    "number2 = float(input(\"Enter second number: \"))\n",
    "add = number1 + number2\n",
    "print(\"Addition =\", add )"
   ]
  },
  {
   "cell_type": "code",
   "execution_count": 4,
   "metadata": {},
   "outputs": [
    {
     "name": "stdout",
     "output_type": "stream",
     "text": [
      "Enter your english marks: 45\n",
      "Enter your math marks: 65\n",
      "Enter your sindhi marks: 55\n",
      "Enter your computer marks: 71\n",
      "Enter your S.S.T marks: 81\n",
      "Your percentage = 45.29%\n",
      "Your grade = D\n"
     ]
    }
   ],
   "source": [
    "# Question 7\n",
    "# Write a program which takes 5 inputs from user for different subject’s marks, total it  and generate mark sheet using grades?\n",
    "Eng = float(input(\"Enter your english marks: \"))\n",
    "Math = float(input(\"Enter your math marks: \"))\n",
    "Sindhi = float(input(\"Enter your sindhi marks: \"))\n",
    "Computer = float(input(\"Enter your computer marks: \"))\n",
    "SST = float(input(\"Enter your S.S.T marks: \"))\n",
    "if Eng > 100 or Math > 100 or Sindhi > 100 or Computer > 100 or SST > 100 or Eng < 0 or Math < 0 or Sindhi < 0 or Computer < 0 or SST < 0:\n",
    "    print(\"Please enter the marks in range(0-100)\")\n",
    "else:\n",
    "    total_marks = 700\n",
    "    marks_obtain = Eng + Math + Sindhi + Computer + SST\n",
    "    percent = (marks_obtain / total_marks) * 100\n",
    "    grade = \" \"\n",
    "    \n",
    "    if percent >= 80:\n",
    "        grade = \"A+\"\n",
    "    elif percent <80 and percent >= 70:\n",
    "        grade = \"A\"\n",
    "    elif percent <70 and percent >= 60:\n",
    "        grade = \"B\"\n",
    "    elif percent <60 and percent >= 50:\n",
    "        grade = \"C\"\n",
    "    elif percent <50 and percent >= 40:\n",
    "        grade = \"D\"\n",
    "    elif percent <40 and percent >= 33:\n",
    "        grade = \"E\"\n",
    "    else:\n",
    "        grade = \"F\"\n",
    "        \n",
    "    print(\"Your percentage = \" + str(round(percent,2)) + \"%\"  )\n",
    "    print(\"Your grade = \" + grade)"
   ]
  },
  {
   "cell_type": "code",
   "execution_count": 7,
   "metadata": {},
   "outputs": [
    {
     "name": "stdout",
     "output_type": "stream",
     "text": [
      "Enter a number: 57\n",
      "57 is an odd number\n"
     ]
    }
   ],
   "source": [
    "# Question 8\n",
    "# Write a program which take input from user and identify that the given number is even  or odd?  \n",
    "number = int(input(\"Enter a number: \"))\n",
    "if number%2==0:\n",
    "    print(number,\"is an even number\")\n",
    "else:\n",
    "    print(number,\"is an odd number\")\n",
    "\n"
   ]
  },
  {
   "cell_type": "code",
   "execution_count": 8,
   "metadata": {},
   "outputs": [
    {
     "name": "stdout",
     "output_type": "stream",
     "text": [
      "Lenght of arr:  3\n"
     ]
    }
   ],
   "source": [
    "# Question 9\n",
    "# Write a program which print the length of the list?\n",
    "arr = [5,5.4,8.6]\n",
    "print(\"Lenght of arr: \",len(arr))"
   ]
  },
  {
   "cell_type": "code",
   "execution_count": 10,
   "metadata": {},
   "outputs": [
    {
     "name": "stdout",
     "output_type": "stream",
     "text": [
      "Sum of numeric item of arr: 11.8\n"
     ]
    }
   ],
   "source": [
    "# Question 10\n",
    "# Write a Python program to sum all the numeric items in a list?\n",
    "sum = 0\n",
    "arr = [3, 5, \"Uzair\", 2.8, 1,\"Karachi\"]\n",
    "for i in range (0,len(arr)):\n",
    "    if type (arr[i]) == int or type(arr[i]) == float:\n",
    "        sum += arr[i]\n",
    "print(\"Sum of numeric item of arr:\",sum)"
   ]
  },
  {
   "cell_type": "code",
   "execution_count": 17,
   "metadata": {},
   "outputs": [
    {
     "name": "stdout",
     "output_type": "stream",
     "text": [
      "Largest number from arr: 152\n"
     ]
    }
   ],
   "source": [
    "# Question 11\n",
    "# Write a Python program to get the largest number from a numeric list\n",
    "arr = [15,96,85,152,75,65,139,145]\n",
    "print(\"Largest number from arr:\",max(arr))\n"
   ]
  },
  {
   "cell_type": "code",
   "execution_count": 26,
   "metadata": {},
   "outputs": [
    {
     "name": "stdout",
     "output_type": "stream",
     "text": [
      "1\n",
      "1\n",
      "2\n",
      "3\n"
     ]
    }
   ],
   "source": [
    "# Question 12\n",
    "# Write a program that prints out all the elements of the list that are less than 5.\n",
    "a = [1, 1, 2, 3, 5, 8, 13, 21, 34, 55, 89]\n",
    "\n",
    "for i in range (len(a)):\n",
    "    if a[i] < 5:\n",
    "        print(a[i])"
   ]
  }
 ],
 "metadata": {
  "kernelspec": {
   "display_name": "Python 3",
   "language": "python",
   "name": "python3"
  },
  "language_info": {
   "codemirror_mode": {
    "name": "ipython",
    "version": 3
   },
   "file_extension": ".py",
   "mimetype": "text/x-python",
   "name": "python",
   "nbconvert_exporter": "python",
   "pygments_lexer": "ipython3",
   "version": "3.6.13"
  }
 },
 "nbformat": 4,
 "nbformat_minor": 2
}
